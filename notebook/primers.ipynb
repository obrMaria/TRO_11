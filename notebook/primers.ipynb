{
 "cells": [
  {
   "cell_type": "markdown",
   "metadata": {},
   "source": [
    "### Самостоятельная работа"
   ]
  },
  {
   "cell_type": "markdown",
   "metadata": {},
   "source": [
    "Задание 5.1.\n",
    "\n",
    "Для трех значений порога 70 + №, 140 + №,\n",
    "210 + №, где № – номер по списку группы (21), провести пороговую обработку полутонового изображения с плавным изменением интенсивности."
   ]
  },
  {
   "cell_type": "code",
   "execution_count": null,
   "metadata": {},
   "outputs": [],
   "source": [
    "import cv2\n",
    "import numpy as np\n",
    "from matplotlib import pyplot as plt"
   ]
  },
  {
   "cell_type": "code",
   "execution_count": null,
   "metadata": {},
   "outputs": [],
   "source": [
    "img = cv2.imread ('ph.jpg')\n",
    "img = cv2.cvtColor(img,  cv2.COLOR_BGR2GRAY)"
   ]
  },
  {
   "cell_type": "code",
   "execution_count": null,
   "metadata": {},
   "outputs": [],
   "source": [
    "ret, thresh1 = cv2.threshold (img, 91,255, cv2.THRESH_BINARY)\n",
    "ret, thresh2 = cv2.threshold (img, 91,255, cv2.THRESH_BINARY_INV)\n",
    "ret, thresh3 = cv2.threshold (img, 91,255, cv2.THRESH_TRUNC)\n",
    "ret, thresh4 = cv2.threshold (img, 91,255, cv2.THRESH_TOZERO)\n",
    "ret, thresh5 = cv2.threshold (img, 91,255, cv2.THRESH_TOZERO_INV)"
   ]
  },
  {
   "cell_type": "code",
   "execution_count": null,
   "metadata": {},
   "outputs": [],
   "source": [
    "title = ['Original Image', 'BINARY', 'BINARY_INV', 'TRUNC', 'TOZERO', 'TOZERO_INV']\n",
    "images = [img, thresh1, thresh2, thresh3, thresh4, thresh5]"
   ]
  },
  {
   "cell_type": "code",
   "execution_count": null,
   "metadata": {},
   "outputs": [],
   "source": [
    "for i in range(6):\n",
    "    plt.subplot(2,3,i+1),plt.imshow(images[i],'gray')\n",
    "    plt.title(title[i])\n",
    "    plt.xticks([]),plt.yticks([])\n",
    "plt.show ()"
   ]
  },
  {
   "cell_type": "markdown",
   "metadata": {},
   "source": [
    "Задание 5.2.\n",
    "\n",
    "Протестировать функции с адаптивным порогом, задавая последовательно два значения порога, примерно 1/3 и 2/3 от\n",
    "максимума интенсивности. Проанализировать результат пороговой\n",
    "обработки изображения "
   ]
  },
  {
   "cell_type": "code",
   "execution_count": null,
   "metadata": {},
   "outputs": [],
   "source": [
    "import cv2\n",
    "import numpy as np\n",
    "from matplotlib import pyplot as plt"
   ]
  },
  {
   "cell_type": "code",
   "execution_count": null,
   "metadata": {},
   "outputs": [],
   "source": [
    "img = cv2.imread('ph.jpg')\n",
    "imag = cv2.cvtColor(img, cv2.COLOR_BGR2GRAY)\n",
    "img = cv2.medianBlur(imag,5)"
   ]
  },
  {
   "cell_type": "code",
   "execution_count": null,
   "metadata": {},
   "outputs": [],
   "source": [
    "ret1,th1 = cv2.threshold(img,127,255,cv2.THRESH_BINARY)\n",
    "th2 = cv2.adaptiveThreshold(img,255, cv2.ADAPTIVE_THRESH_MEAN_C,cv2.THRESH_BINARY,11,2)\n",
    "th3 = cv2.adaptiveThreshold(img,255, cv2.ADAPTIVE_THRESH_GAUSSIAN_C,cv2.THRESH_BINARY,11,2)\n",
    "titles = ['Original Image', 'Global Thresholding (v = 127)', 'Adaptive Mean Thresholding', 'Adaptive Gaussian Thresholding']"
   ]
  },
  {
   "cell_type": "code",
   "execution_count": null,
   "metadata": {},
   "outputs": [],
   "source": [
    "images = [img, th1, th2, th3]\n",
    "\n",
    "plt.subplot(221), plt.imshow(imag)\n",
    "plt.title('img')\n",
    "plt.subplot(222), plt.imshow(th1)\n",
    "plt.title('th1')\n",
    "plt.subplot(223), plt.imshow(th2)\n",
    "plt.title('th2')\n",
    "plt.subplot(224), plt.imshow(th3)\n",
    "plt.title('th3')\n",
    "plt.show()"
   ]
  },
  {
   "cell_type": "markdown",
   "metadata": {},
   "source": [
    "Задание 5.3.\n",
    "\n",
    "Загрузить модули cv2, random, PIL. Создать зашумленное изображение."
   ]
  },
  {
   "cell_type": "code",
   "execution_count": null,
   "metadata": {},
   "outputs": [],
   "source": [
    "import random"
   ]
  },
  {
   "cell_type": "code",
   "execution_count": 2,
   "metadata": {},
   "outputs": [],
   "source": [
    "from PIL import Image, ImageDraw"
   ]
  },
  {
   "cell_type": "code",
   "execution_count": null,
   "metadata": {},
   "outputs": [],
   "source": [
    "image = Image.open('ph.jpg')\n",
    "draw = ImageDraw.Draw(image) "
   ]
  },
  {
   "cell_type": "code",
   "execution_count": null,
   "metadata": {},
   "outputs": [],
   "source": [
    "width = image.size[0]\n",
    "height = image.size[1]\n",
    "pix = image.load() "
   ]
  },
  {
   "cell_type": "code",
   "execution_count": null,
   "metadata": {},
   "outputs": [],
   "source": [
    "for i in range(width):\n",
    "    for j in range(height):\n",
    "        rand = random.randint(0, 200)\n",
    "        a = pix[i, j][0] + rand\n",
    "        b = pix[i, j][1] + rand\n",
    "        c = pix[i, j][2] + rand\n",
    "        if (a > 255):\n",
    "            a = 255\n",
    "        if (b > 255):\n",
    "            b = 255\n",
    "        if (c > 255):\n",
    "            c = 255\n",
    "        draw.point((i, j), (a, b, c))"
   ]
  },
  {
   "cell_type": "code",
   "execution_count": null,
   "metadata": {},
   "outputs": [],
   "source": [
    "image.save(\"median.png\", \"JPEG\")\n",
    "\n",
    "imag = cv2.imread('ph.jpg')\n",
    "imag = cv2.cvtColor(imag, cv2.COLOR_BGR2RGB)\n",
    "img = cv2.imread('median.png')\n",
    "\n",
    "plt.subplot(121),plt.imshow(imag),plt.title('Input')\n",
    "plt.subplot(122),plt.imshow(img),plt.title('Output')\n",
    "plt.show()"
   ]
  },
  {
   "cell_type": "markdown",
   "metadata": {},
   "source": [
    "Задание 5.4. \n",
    "\n",
    "На вход программы пороговой обработки подается зашумленное изображение. Это изображение обрабатывается \n",
    "тремя способами. В первом случае используется глобальный порог со значением 127. Во втором случае напрямую применяется порог Оцу. В третьем случае изображение сначала удаляет шум фильтром с гауссовым ядром 5x5, затем применяется пороговая обработка Оцу. Сделать анализ того, как фильтрация шума улучшает \n",
    "результат.\n"
   ]
  },
  {
   "cell_type": "code",
   "execution_count": null,
   "metadata": {},
   "outputs": [],
   "source": [
    "Import cv2\n",
    "import numpy as np\n",
    "from matplotlib import pyplot as plt"
   ]
  },
  {
   "cell_type": "code",
   "execution_count": null,
   "metadata": {},
   "outputs": [],
   "source": [
    "img = cv2.imread('ph.jpg')\n",
    "img = cv2.cvtColor(img, cv2.COLOR_BGR2GRAY)"
   ]
  },
  {
   "cell_type": "code",
   "execution_count": null,
   "metadata": {},
   "outputs": [],
   "source": [
    "ret1,th1 = cv2.threshold(img,127,255,cv2.THRESH_BINARY)\n",
    "ret2,th2 = cv2.threshold(img,0,255,cv2.THRESH_BINARY+cv2.THRESH_OTSU)\n",
    "blur = cv2.GaussianBlur(img,(5,5),0)\n",
    "ret3,th3 = cv2.threshold(blur,0,255,cv2.THRESH_BINARY+cv2.THRESH_OTSU)"
   ]
  },
  {
   "cell_type": "code",
   "execution_count": null,
   "metadata": {},
   "outputs": [],
   "source": [
    "images = [img, 0, th1, \n",
    "         img, 0, th2, \n",
    "         blur, 0, th3]\n",
    "titles = [\"Original Noisy Image\",\"Histogram\",\"GlobalThresholding (v=127)\",\"Original Noisy Image\", \"Histogram\",\"Otsu’s Thresholding\",\"Gaussian filtered Image\",\"Histogram\",\"Otsu’s Thresh-olding\"]"
   ]
  },
  {
   "cell_type": "code",
   "execution_count": null,
   "metadata": {},
   "outputs": [],
   "source": [
    "for i in range(3):\n",
    "    plt.subplot(3,3,i*3+1), plt.imshow(images[i*3], \"gray\")\n",
    "    plt.title(titles[i*3]), plt.xticks([]),\n",
    "    plt.yticks([])\n",
    "    plt.subplot(3,3,i*3+2),plt.hist(images[i*3].ravel(),256)\n",
    "    plt.title(titles[i*3+1]), plt.xticks([]),plt.yticks([])\n",
    "    plt.subplot(3,3,i*3+3),plt.imshow(images[i*3+2],\"gray\")\n",
    "    plt.title(titles[i*3+2]), plt.xticks([]),plt.yticks([])\n",
    "    plt.show()"
   ]
  }
 ],
 "metadata": {
  "kernelspec": {
   "display_name": "Python 3 (ipykernel)",
   "language": "python",
   "name": "python3"
  },
  "language_info": {
   "codemirror_mode": {
    "name": "ipython",
    "version": 3
   },
   "file_extension": ".py",
   "mimetype": "text/x-python",
   "name": "python",
   "nbconvert_exporter": "python",
   "pygments_lexer": "ipython3",
   "version": "3.9.13"
  }
 },
 "nbformat": 4,
 "nbformat_minor": 4
}
